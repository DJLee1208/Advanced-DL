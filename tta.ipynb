{
 "cells": [
  {
   "cell_type": "code",
   "execution_count": null,
   "id": "3e54fed6-0b6f-4561-a509-d3f60709df80",
   "metadata": {
    "execution": {
     "iopub.execute_input": "2023-11-27T17:59:39.422194Z",
     "iopub.status.busy": "2023-11-27T17:59:39.421577Z"
    },
    "tags": []
   },
   "outputs": [
    {
     "name": "stderr",
     "output_type": "stream",
     "text": [
      "/home/painstudy/.local/lib/python3.8/site-packages/tqdm/auto.py:22: TqdmWarning: IProgress not found. Please update jupyter and ipywidgets. See https://ipywidgets.readthedocs.io/en/stable/user_install.html\n",
      "  from .autonotebook import tqdm as notebook_tqdm\n"
     ]
    },
    {
     "name": "stdout",
     "output_type": "stream",
     "text": [
      "Source: Ningbo, Target: Chapman\n",
      " ### Leads: 2\n",
      "Copying data...Done.\n",
      "Loading configurations...Done.\n",
      "Loading train set & model...Done\n",
      "1. Baseline...\n"
     ]
    },
    {
     "name": "stderr",
     "output_type": "stream",
     "text": [
      "100%|██████████| 69/69 [04:45<00:00,  4.14s/it]\n"
     ]
    },
    {
     "name": "stdout",
     "output_type": "stream",
     "text": [
      "Evaluating model...\n",
      "- AUROC and AUPRC...\n",
      "auroc 0.908, auprc 0.522\n",
      "- Accuracy...\n",
      "acc 0.452\n",
      "- F-measure...\n",
      "f score 0.387\n",
      "- Challenge metric...\n",
      "challenge metric: 0.6781766887176142\n",
      "Done.\n",
      "2. Norm method...\n"
     ]
    },
    {
     "name": "stderr",
     "output_type": "stream",
     "text": [
      "100%|██████████| 69/69 [04:43<00:00,  4.11s/it]\n"
     ]
    },
    {
     "name": "stdout",
     "output_type": "stream",
     "text": [
      "Evaluating model...\n",
      "- AUROC and AUPRC...\n",
      "auroc 0.908, auprc 0.523\n",
      "- Accuracy...\n",
      "acc 0.448\n",
      "- F-measure...\n",
      "f score 0.385\n",
      "- Challenge metric...\n",
      "challenge metric: 0.6767527155676276\n",
      "Done.\n",
      "3. Tent - episodic method...\n"
     ]
    },
    {
     "name": "stderr",
     "output_type": "stream",
     "text": [
      "  9%|▊         | 6/69 [01:54<19:50, 18.89s/it]"
     ]
    }
   ],
   "source": [
    "from tta_evaluate import evaluate_tta\n",
    "\n",
    "target_sets = ['Chapman', 'CPSC+Extra', 'G12EC', 'PTB-XL'] \n",
    "\n",
    "for target in target_sets:\n",
    "    evaluate_tta(source='Ningbo', target=target)"
   ]
  },
  {
   "cell_type": "code",
   "execution_count": null,
   "id": "e24c019d-d462-4007-8e36-8a9d0cf34dd8",
   "metadata": {},
   "outputs": [],
   "source": [
    "for target in target_sets:\n",
    "    evaluate_tta(source='PTB-XL', target=target)"
   ]
  }
 ],
 "metadata": {
  "kernelspec": {
   "display_name": "keras",
   "language": "python",
   "name": "painstudy_keras"
  },
  "language_info": {
   "codemirror_mode": {
    "name": "ipython",
    "version": 3
   },
   "file_extension": ".py",
   "mimetype": "text/x-python",
   "name": "python",
   "nbconvert_exporter": "python",
   "pygments_lexer": "ipython3",
   "version": "3.8.12"
  }
 },
 "nbformat": 4,
 "nbformat_minor": 5
}
