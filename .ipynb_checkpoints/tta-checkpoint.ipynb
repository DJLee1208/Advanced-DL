{
 "cells": [
  {
   "cell_type": "code",
   "execution_count": 1,
   "id": "3e54fed6-0b6f-4561-a509-d3f60709df80",
   "metadata": {
    "execution": {
     "iopub.execute_input": "2023-11-28T07:30:27.416988Z",
     "iopub.status.busy": "2023-11-28T07:30:27.416462Z",
     "iopub.status.idle": "2023-11-28T07:45:57.974011Z",
     "shell.execute_reply": "2023-11-28T07:45:57.972995Z",
     "shell.execute_reply.started": "2023-11-28T07:30:27.416860Z"
    },
    "tags": []
   },
   "outputs": [
    {
     "name": "stderr",
     "output_type": "stream",
     "text": [
      "/home/painstudy/.local/lib/python3.8/site-packages/tqdm/auto.py:22: TqdmWarning: IProgress not found. Please update jupyter and ipywidgets. See https://ipywidgets.readthedocs.io/en/stable/user_install.html\n",
      "  from .autonotebook import tqdm as notebook_tqdm\n"
     ]
    },
    {
     "name": "stdout",
     "output_type": "stream",
     "text": [
      "Source: Chapman, Target: PTB-XL\n",
      " ### Leads: 12\n",
      "Copying data...Done.\n",
      "Loading configurations...Done.\n",
      "Loading train set & model...Done\n",
      "1. Baseline...\n"
     ]
    },
    {
     "name": "stderr",
     "output_type": "stream",
     "text": [
      "100%|██████████| 152/152 [01:36<00:00,  1.57it/s]\n"
     ]
    },
    {
     "name": "stdout",
     "output_type": "stream",
     "text": [
      "Evaluating model...\n",
      "- AUROC and AUPRC...\n",
      "auroc 0.763, auprc 0.334\n",
      "- Accuracy...\n",
      "acc 0.278\n",
      "- F-measure...\n",
      "f score 0.272\n",
      "- Challenge metric...\n",
      "challenge metric: 0.056333152312323304\n",
      "Done.\n",
      "2. Norm method...\n"
     ]
    },
    {
     "name": "stderr",
     "output_type": "stream",
     "text": [
      "100%|██████████| 152/152 [01:27<00:00,  1.73it/s]\n"
     ]
    },
    {
     "name": "stdout",
     "output_type": "stream",
     "text": [
      "Evaluating model...\n",
      "- AUROC and AUPRC...\n",
      "auroc 0.763, auprc 0.337\n",
      "- Accuracy...\n",
      "acc 0.277\n",
      "- F-measure...\n",
      "f score 0.270\n",
      "- Challenge metric...\n",
      "challenge metric: 0.05436010162730794\n",
      "Done.\n",
      "3. Tent - episodic method...\n"
     ]
    },
    {
     "name": "stderr",
     "output_type": "stream",
     "text": [
      "100%|██████████| 152/152 [04:12<00:00,  1.66s/it]\n"
     ]
    },
    {
     "name": "stdout",
     "output_type": "stream",
     "text": [
      "Evaluating model...\n",
      "- AUROC and AUPRC...\n",
      "auroc 0.763, auprc 0.334\n",
      "- Accuracy...\n",
      "acc 0.276\n",
      "- F-measure...\n",
      "f score 0.270\n",
      "- Challenge metric...\n",
      "challenge metric: 0.05266495103231722\n",
      "Done.\n",
      "4. Tent - online method...\n"
     ]
    },
    {
     "name": "stderr",
     "output_type": "stream",
     "text": [
      "100%|██████████| 152/152 [04:10<00:00,  1.65s/it]\n"
     ]
    },
    {
     "name": "stdout",
     "output_type": "stream",
     "text": [
      "Evaluating model...\n",
      "- AUROC and AUPRC...\n",
      "auroc 0.765, auprc 0.337\n",
      "- Accuracy...\n",
      "acc 0.280\n",
      "- F-measure...\n",
      "f score 0.270\n",
      "- Challenge metric...\n",
      "challenge metric: 0.05933253945488318\n",
      "Done.\n",
      "Source: Chapman, Target: Ningbo\n",
      " ### Leads: 12\n",
      "Copying data...Done.\n",
      "Loading configurations...Done.\n",
      "Loading train set & model...Done\n",
      "1. Baseline...\n"
     ]
    },
    {
     "name": "stderr",
     "output_type": "stream",
     "text": [
      " 90%|████████▉ | 218/243 [02:37<00:18,  1.38it/s]\n"
     ]
    },
    {
     "ename": "FileNotFoundError",
     "evalue": "Caught FileNotFoundError in DataLoader worker process 2.\nOriginal Traceback (most recent call last):\n  File \"/home/painstudy/.local/lib/python3.8/site-packages/scipy/io/matlab/mio.py\", line 39, in _open_file\n    return open(file_like, mode), True\nFileNotFoundError: [Errno 2] No such file or directory: 'data_aggr/JS27200.mat'\n\nDuring handling of the above exception, another exception occurred:\n\nTraceback (most recent call last):\n  File \"/home/painstudy/.local/lib/python3.8/site-packages/torch/utils/data/_utils/worker.py\", line 302, in _worker_loop\n    data = fetcher.fetch(index)\n  File \"/home/painstudy/.local/lib/python3.8/site-packages/torch/utils/data/_utils/fetch.py\", line 49, in fetch\n    data = [self.dataset[idx] for idx in possibly_batched_index]\n  File \"/home/painstudy/.local/lib/python3.8/site-packages/torch/utils/data/_utils/fetch.py\", line 49, in <listcomp>\n    data = [self.dataset[idx] for idx in possibly_batched_index]\n  File \"/home/painstudy/ECG_TTA/DSAIL/src/data.py\", line 45, in __getitem__\n    x, f = preprocess_signal(load_data(self.filenames[i], preprocessed, self.preprocess_cfg.preprocess_idx, preprocessed_filename=preprocessed_path),\n  File \"/home/painstudy/ECG_TTA/DSAIL/src/data.py\", line 95, in load_data\n    data = np.asarray(loadmat(filename + \".mat\")['val'], dtype=np.float32)\n  File \"/home/painstudy/.local/lib/python3.8/site-packages/scipy/io/matlab/mio.py\", line 224, in loadmat\n    with _open_file_context(file_name, appendmat) as f:\n  File \"/home/painstudy/anaconda3/envs/keras/lib/python3.8/contextlib.py\", line 113, in __enter__\n    return next(self.gen)\n  File \"/home/painstudy/.local/lib/python3.8/site-packages/scipy/io/matlab/mio.py\", line 17, in _open_file_context\n    f, opened = _open_file(file_like, appendmat, mode)\n  File \"/home/painstudy/.local/lib/python3.8/site-packages/scipy/io/matlab/mio.py\", line 45, in _open_file\n    return open(file_like, mode), True\nFileNotFoundError: [Errno 2] No such file or directory: 'data_aggr/JS27200.mat'\n",
     "output_type": "error",
     "traceback": [
      "\u001b[0;31m---------------------------------------------------------------------------\u001b[0m",
      "\u001b[0;31mFileNotFoundError\u001b[0m                         Traceback (most recent call last)",
      "\u001b[0;32m/tmp/ipykernel_2811467/3054717513.py\u001b[0m in \u001b[0;36m<module>\u001b[0;34m\u001b[0m\n\u001b[1;32m      4\u001b[0m \u001b[0;34m\u001b[0m\u001b[0m\n\u001b[1;32m      5\u001b[0m \u001b[0;32mfor\u001b[0m \u001b[0mtarget\u001b[0m \u001b[0;32min\u001b[0m \u001b[0mtarget_sets\u001b[0m\u001b[0;34m:\u001b[0m\u001b[0;34m\u001b[0m\u001b[0;34m\u001b[0m\u001b[0m\n\u001b[0;32m----> 6\u001b[0;31m     \u001b[0mevaluate_tta\u001b[0m\u001b[0;34m(\u001b[0m\u001b[0msource\u001b[0m\u001b[0;34m=\u001b[0m\u001b[0;34m'Chapman'\u001b[0m\u001b[0;34m,\u001b[0m \u001b[0mtarget\u001b[0m\u001b[0;34m=\u001b[0m\u001b[0mtarget\u001b[0m\u001b[0;34m)\u001b[0m\u001b[0;34m\u001b[0m\u001b[0;34m\u001b[0m\u001b[0m\n\u001b[0m",
      "\u001b[0;32m~/ECG_TTA/DSAIL/tta_evaluate.py\u001b[0m in \u001b[0;36mevaluate_tta\u001b[0;34m(source, target)\u001b[0m\n\u001b[1;32m     75\u001b[0m         \u001b[0mprint\u001b[0m\u001b[0;34m(\u001b[0m\u001b[0;34m'1. Baseline...'\u001b[0m\u001b[0;34m)\u001b[0m\u001b[0;34m\u001b[0m\u001b[0;34m\u001b[0m\u001b[0m\n\u001b[1;32m     76\u001b[0m         \u001b[0mfpath\u001b[0m \u001b[0;34m=\u001b[0m \u001b[0;34mf'{source}-{target}/base_{num_leads}_leads'\u001b[0m\u001b[0;34m\u001b[0m\u001b[0;34m\u001b[0m\u001b[0m\n\u001b[0;32m---> 77\u001b[0;31m         \u001b[0mevaluate_test\u001b[0m\u001b[0;34m(\u001b[0m\u001b[0mmodel\u001b[0m\u001b[0;34m,\u001b[0m \u001b[0miterator_train\u001b[0m\u001b[0;34m,\u001b[0m \u001b[0mfpath\u001b[0m\u001b[0;34m)\u001b[0m\u001b[0;34m\u001b[0m\u001b[0;34m\u001b[0m\u001b[0m\n\u001b[0m\u001b[1;32m     78\u001b[0m \u001b[0;34m\u001b[0m\u001b[0m\n\u001b[1;32m     79\u001b[0m         \u001b[0;31m### norm method : adjusting batch normalization on test batch\u001b[0m\u001b[0;34m\u001b[0m\u001b[0;34m\u001b[0m\u001b[0;34m\u001b[0m\u001b[0m\n",
      "\u001b[0;32m~/ECG_TTA/DSAIL/tta_evaluate.py\u001b[0m in \u001b[0;36mevaluate_test\u001b[0;34m(model, iterator_train, fpath)\u001b[0m\n\u001b[1;32m    107\u001b[0m \u001b[0;32mdef\u001b[0m \u001b[0mevaluate_test\u001b[0m\u001b[0;34m(\u001b[0m\u001b[0mmodel\u001b[0m\u001b[0;34m,\u001b[0m \u001b[0miterator_train\u001b[0m\u001b[0;34m,\u001b[0m \u001b[0mfpath\u001b[0m\u001b[0;34m)\u001b[0m\u001b[0;34m:\u001b[0m\u001b[0;34m\u001b[0m\u001b[0;34m\u001b[0m\u001b[0m\n\u001b[1;32m    108\u001b[0m     \u001b[0mscalars\u001b[0m\u001b[0;34m,\u001b[0m \u001b[0mbinaries\u001b[0m\u001b[0;34m,\u001b[0m \u001b[0mtrue_labels\u001b[0m \u001b[0;34m=\u001b[0m \u001b[0;34m[\u001b[0m\u001b[0;34m]\u001b[0m\u001b[0;34m,\u001b[0m \u001b[0;34m[\u001b[0m\u001b[0;34m]\u001b[0m\u001b[0;34m,\u001b[0m \u001b[0;34m[\u001b[0m\u001b[0;34m]\u001b[0m\u001b[0;34m\u001b[0m\u001b[0;34m\u001b[0m\u001b[0m\n\u001b[0;32m--> 109\u001b[0;31m     \u001b[0;32mfor\u001b[0m \u001b[0mB\u001b[0m\u001b[0;34m,\u001b[0m \u001b[0mbatch\u001b[0m \u001b[0;32min\u001b[0m \u001b[0menumerate\u001b[0m\u001b[0;34m(\u001b[0m\u001b[0mtqdm\u001b[0m\u001b[0;34m(\u001b[0m\u001b[0miterator_train\u001b[0m\u001b[0;34m)\u001b[0m\u001b[0;34m)\u001b[0m\u001b[0;34m:\u001b[0m\u001b[0;34m\u001b[0m\u001b[0;34m\u001b[0m\u001b[0m\n\u001b[0m\u001b[1;32m    110\u001b[0m         \u001b[0minputs\u001b[0m\u001b[0;34m,\u001b[0m \u001b[0mfeatures\u001b[0m\u001b[0;34m,\u001b[0m \u001b[0mlabels\u001b[0m \u001b[0;34m=\u001b[0m \u001b[0mbatch\u001b[0m\u001b[0;34m\u001b[0m\u001b[0;34m\u001b[0m\u001b[0m\n\u001b[1;32m    111\u001b[0m \u001b[0;34m\u001b[0m\u001b[0m\n",
      "\u001b[0;32m~/.local/lib/python3.8/site-packages/tqdm/std.py\u001b[0m in \u001b[0;36m__iter__\u001b[0;34m(self)\u001b[0m\n\u001b[1;32m   1193\u001b[0m \u001b[0;34m\u001b[0m\u001b[0m\n\u001b[1;32m   1194\u001b[0m         \u001b[0;32mtry\u001b[0m\u001b[0;34m:\u001b[0m\u001b[0;34m\u001b[0m\u001b[0;34m\u001b[0m\u001b[0m\n\u001b[0;32m-> 1195\u001b[0;31m             \u001b[0;32mfor\u001b[0m \u001b[0mobj\u001b[0m \u001b[0;32min\u001b[0m \u001b[0miterable\u001b[0m\u001b[0;34m:\u001b[0m\u001b[0;34m\u001b[0m\u001b[0;34m\u001b[0m\u001b[0m\n\u001b[0m\u001b[1;32m   1196\u001b[0m                 \u001b[0;32myield\u001b[0m \u001b[0mobj\u001b[0m\u001b[0;34m\u001b[0m\u001b[0;34m\u001b[0m\u001b[0m\n\u001b[1;32m   1197\u001b[0m                 \u001b[0;31m# Update and possibly print the progressbar.\u001b[0m\u001b[0;34m\u001b[0m\u001b[0;34m\u001b[0m\u001b[0;34m\u001b[0m\u001b[0m\n",
      "\u001b[0;32m~/.local/lib/python3.8/site-packages/torch/utils/data/dataloader.py\u001b[0m in \u001b[0;36m__next__\u001b[0;34m(self)\u001b[0m\n\u001b[1;32m    650\u001b[0m                 \u001b[0;31m# TODO(https://github.com/pytorch/pytorch/issues/76750)\u001b[0m\u001b[0;34m\u001b[0m\u001b[0;34m\u001b[0m\u001b[0;34m\u001b[0m\u001b[0m\n\u001b[1;32m    651\u001b[0m                 \u001b[0mself\u001b[0m\u001b[0;34m.\u001b[0m\u001b[0m_reset\u001b[0m\u001b[0;34m(\u001b[0m\u001b[0;34m)\u001b[0m  \u001b[0;31m# type: ignore[call-arg]\u001b[0m\u001b[0;34m\u001b[0m\u001b[0;34m\u001b[0m\u001b[0m\n\u001b[0;32m--> 652\u001b[0;31m             \u001b[0mdata\u001b[0m \u001b[0;34m=\u001b[0m \u001b[0mself\u001b[0m\u001b[0;34m.\u001b[0m\u001b[0m_next_data\u001b[0m\u001b[0;34m(\u001b[0m\u001b[0;34m)\u001b[0m\u001b[0;34m\u001b[0m\u001b[0;34m\u001b[0m\u001b[0m\n\u001b[0m\u001b[1;32m    653\u001b[0m             \u001b[0mself\u001b[0m\u001b[0;34m.\u001b[0m\u001b[0m_num_yielded\u001b[0m \u001b[0;34m+=\u001b[0m \u001b[0;36m1\u001b[0m\u001b[0;34m\u001b[0m\u001b[0;34m\u001b[0m\u001b[0m\n\u001b[1;32m    654\u001b[0m             \u001b[0;32mif\u001b[0m \u001b[0mself\u001b[0m\u001b[0;34m.\u001b[0m\u001b[0m_dataset_kind\u001b[0m \u001b[0;34m==\u001b[0m \u001b[0m_DatasetKind\u001b[0m\u001b[0;34m.\u001b[0m\u001b[0mIterable\u001b[0m \u001b[0;32mand\u001b[0m\u001b[0;31m \u001b[0m\u001b[0;31m\\\u001b[0m\u001b[0;34m\u001b[0m\u001b[0;34m\u001b[0m\u001b[0m\n",
      "\u001b[0;32m~/.local/lib/python3.8/site-packages/torch/utils/data/dataloader.py\u001b[0m in \u001b[0;36m_next_data\u001b[0;34m(self)\u001b[0m\n\u001b[1;32m   1345\u001b[0m             \u001b[0;32melse\u001b[0m\u001b[0;34m:\u001b[0m\u001b[0;34m\u001b[0m\u001b[0;34m\u001b[0m\u001b[0m\n\u001b[1;32m   1346\u001b[0m                 \u001b[0;32mdel\u001b[0m \u001b[0mself\u001b[0m\u001b[0;34m.\u001b[0m\u001b[0m_task_info\u001b[0m\u001b[0;34m[\u001b[0m\u001b[0midx\u001b[0m\u001b[0;34m]\u001b[0m\u001b[0;34m\u001b[0m\u001b[0;34m\u001b[0m\u001b[0m\n\u001b[0;32m-> 1347\u001b[0;31m                 \u001b[0;32mreturn\u001b[0m \u001b[0mself\u001b[0m\u001b[0;34m.\u001b[0m\u001b[0m_process_data\u001b[0m\u001b[0;34m(\u001b[0m\u001b[0mdata\u001b[0m\u001b[0;34m)\u001b[0m\u001b[0;34m\u001b[0m\u001b[0;34m\u001b[0m\u001b[0m\n\u001b[0m\u001b[1;32m   1348\u001b[0m \u001b[0;34m\u001b[0m\u001b[0m\n\u001b[1;32m   1349\u001b[0m     \u001b[0;32mdef\u001b[0m \u001b[0m_try_put_index\u001b[0m\u001b[0;34m(\u001b[0m\u001b[0mself\u001b[0m\u001b[0;34m)\u001b[0m\u001b[0;34m:\u001b[0m\u001b[0;34m\u001b[0m\u001b[0;34m\u001b[0m\u001b[0m\n",
      "\u001b[0;32m~/.local/lib/python3.8/site-packages/torch/utils/data/dataloader.py\u001b[0m in \u001b[0;36m_process_data\u001b[0;34m(self, data)\u001b[0m\n\u001b[1;32m   1371\u001b[0m         \u001b[0mself\u001b[0m\u001b[0;34m.\u001b[0m\u001b[0m_try_put_index\u001b[0m\u001b[0;34m(\u001b[0m\u001b[0;34m)\u001b[0m\u001b[0;34m\u001b[0m\u001b[0;34m\u001b[0m\u001b[0m\n\u001b[1;32m   1372\u001b[0m         \u001b[0;32mif\u001b[0m \u001b[0misinstance\u001b[0m\u001b[0;34m(\u001b[0m\u001b[0mdata\u001b[0m\u001b[0;34m,\u001b[0m \u001b[0mExceptionWrapper\u001b[0m\u001b[0;34m)\u001b[0m\u001b[0;34m:\u001b[0m\u001b[0;34m\u001b[0m\u001b[0;34m\u001b[0m\u001b[0m\n\u001b[0;32m-> 1373\u001b[0;31m             \u001b[0mdata\u001b[0m\u001b[0;34m.\u001b[0m\u001b[0mreraise\u001b[0m\u001b[0;34m(\u001b[0m\u001b[0;34m)\u001b[0m\u001b[0;34m\u001b[0m\u001b[0;34m\u001b[0m\u001b[0m\n\u001b[0m\u001b[1;32m   1374\u001b[0m         \u001b[0;32mreturn\u001b[0m \u001b[0mdata\u001b[0m\u001b[0;34m\u001b[0m\u001b[0;34m\u001b[0m\u001b[0m\n\u001b[1;32m   1375\u001b[0m \u001b[0;34m\u001b[0m\u001b[0m\n",
      "\u001b[0;32m~/.local/lib/python3.8/site-packages/torch/_utils.py\u001b[0m in \u001b[0;36mreraise\u001b[0;34m(self)\u001b[0m\n\u001b[1;32m    459\u001b[0m             \u001b[0;31m# instantiate since we don't know how to\u001b[0m\u001b[0;34m\u001b[0m\u001b[0;34m\u001b[0m\u001b[0;34m\u001b[0m\u001b[0m\n\u001b[1;32m    460\u001b[0m             \u001b[0;32mraise\u001b[0m \u001b[0mRuntimeError\u001b[0m\u001b[0;34m(\u001b[0m\u001b[0mmsg\u001b[0m\u001b[0;34m)\u001b[0m \u001b[0;32mfrom\u001b[0m \u001b[0;32mNone\u001b[0m\u001b[0;34m\u001b[0m\u001b[0;34m\u001b[0m\u001b[0m\n\u001b[0;32m--> 461\u001b[0;31m         \u001b[0;32mraise\u001b[0m \u001b[0mexception\u001b[0m\u001b[0;34m\u001b[0m\u001b[0;34m\u001b[0m\u001b[0m\n\u001b[0m\u001b[1;32m    462\u001b[0m \u001b[0;34m\u001b[0m\u001b[0m\n\u001b[1;32m    463\u001b[0m \u001b[0;34m\u001b[0m\u001b[0m\n",
      "\u001b[0;31mFileNotFoundError\u001b[0m: Caught FileNotFoundError in DataLoader worker process 2.\nOriginal Traceback (most recent call last):\n  File \"/home/painstudy/.local/lib/python3.8/site-packages/scipy/io/matlab/mio.py\", line 39, in _open_file\n    return open(file_like, mode), True\nFileNotFoundError: [Errno 2] No such file or directory: 'data_aggr/JS27200.mat'\n\nDuring handling of the above exception, another exception occurred:\n\nTraceback (most recent call last):\n  File \"/home/painstudy/.local/lib/python3.8/site-packages/torch/utils/data/_utils/worker.py\", line 302, in _worker_loop\n    data = fetcher.fetch(index)\n  File \"/home/painstudy/.local/lib/python3.8/site-packages/torch/utils/data/_utils/fetch.py\", line 49, in fetch\n    data = [self.dataset[idx] for idx in possibly_batched_index]\n  File \"/home/painstudy/.local/lib/python3.8/site-packages/torch/utils/data/_utils/fetch.py\", line 49, in <listcomp>\n    data = [self.dataset[idx] for idx in possibly_batched_index]\n  File \"/home/painstudy/ECG_TTA/DSAIL/src/data.py\", line 45, in __getitem__\n    x, f = preprocess_signal(load_data(self.filenames[i], preprocessed, self.preprocess_cfg.preprocess_idx, preprocessed_filename=preprocessed_path),\n  File \"/home/painstudy/ECG_TTA/DSAIL/src/data.py\", line 95, in load_data\n    data = np.asarray(loadmat(filename + \".mat\")['val'], dtype=np.float32)\n  File \"/home/painstudy/.local/lib/python3.8/site-packages/scipy/io/matlab/mio.py\", line 224, in loadmat\n    with _open_file_context(file_name, appendmat) as f:\n  File \"/home/painstudy/anaconda3/envs/keras/lib/python3.8/contextlib.py\", line 113, in __enter__\n    return next(self.gen)\n  File \"/home/painstudy/.local/lib/python3.8/site-packages/scipy/io/matlab/mio.py\", line 17, in _open_file_context\n    f, opened = _open_file(file_like, appendmat, mode)\n  File \"/home/painstudy/.local/lib/python3.8/site-packages/scipy/io/matlab/mio.py\", line 45, in _open_file\n    return open(file_like, mode), True\nFileNotFoundError: [Errno 2] No such file or directory: 'data_aggr/JS27200.mat'\n"
     ]
    }
   ],
   "source": [
    "from tta_evaluate import evaluate_tta\n",
    "\n",
    "target_sets = ['PTB-XL', 'Ningbo', 'CPSC+Extra', 'G12EC', 'Chapman']\n",
    "\n",
    "for target in target_sets:\n",
    "    evaluate_tta(source='Chapman', target=target)"
   ]
  },
  {
   "cell_type": "code",
   "execution_count": null,
   "id": "e24c019d-d462-4007-8e36-8a9d0cf34dd8",
   "metadata": {},
   "outputs": [],
   "source": [
    "target_sets = ['Ningbo','Chapman', 'CPSC+Extra', 'G12EC', 'PTB-XL'] \n",
    "for target in target_sets:\n",
    "    evaluate_tta(source='PTB-XL', target=target)"
   ]
  },
  {
   "cell_type": "code",
   "execution_count": null,
   "id": "3fe1450c-1717-4495-beca-360fa2f9ce1a",
   "metadata": {},
   "outputs": [],
   "source": []
  },
  {
   "cell_type": "markdown",
   "id": "08b74f6a-f972-4904-898c-9041e4df39e3",
   "metadata": {},
   "source": [
    "## Train baseline model"
   ]
  },
  {
   "cell_type": "code",
   "execution_count": 4,
   "id": "2eff103f-1558-43a7-b639-d4519f374263",
   "metadata": {
    "collapsed": true,
    "execution": {
     "iopub.execute_input": "2023-11-28T07:17:29.348909Z",
     "iopub.status.busy": "2023-11-28T07:17:29.348591Z",
     "iopub.status.idle": "2023-11-28T07:17:32.249824Z",
     "shell.execute_reply": "2023-11-28T07:17:32.248925Z",
     "shell.execute_reply.started": "2023-11-28T07:17:29.348871Z"
    },
    "jupyter": {
     "outputs_hidden": true
    },
    "tags": []
   },
   "outputs": [
    {
     "name": "stdout",
     "output_type": "stream",
     "text": [
      "Training for 2leads...\n",
      "Loading data...\n"
     ]
    },
    {
     "ename": "FileNotFoundError",
     "evalue": "[Errno 2] No such file or directory: 'data_train/JS10651.hea'",
     "output_type": "error",
     "traceback": [
      "\u001b[0;31m---------------------------------------------------------------------------\u001b[0m",
      "\u001b[0;31mFileNotFoundError\u001b[0m                         Traceback (most recent call last)",
      "\u001b[0;32m/tmp/ipykernel_2807171/472856602.py\u001b[0m in \u001b[0;36m<module>\u001b[0;34m\u001b[0m\n\u001b[1;32m     14\u001b[0m \u001b[0;34m\u001b[0m\u001b[0m\n\u001b[1;32m     15\u001b[0m \u001b[0mos\u001b[0m\u001b[0;34m.\u001b[0m\u001b[0menviron\u001b[0m\u001b[0;34m[\u001b[0m\u001b[0;34m\"CUDA_VISIBLE_DEVICES\"\u001b[0m\u001b[0;34m]\u001b[0m \u001b[0;34m=\u001b[0m \u001b[0;34m\"2\"\u001b[0m\u001b[0;34m\u001b[0m\u001b[0;34m\u001b[0m\u001b[0m\n\u001b[0;32m---> 16\u001b[0;31m \u001b[0mtraining_code\u001b[0m\u001b[0;34m(\u001b[0m\u001b[0;34m'data_train'\u001b[0m\u001b[0;34m,\u001b[0m \u001b[0;34m'model'\u001b[0m\u001b[0;34m)\u001b[0m\u001b[0;34m\u001b[0m\u001b[0;34m\u001b[0m\u001b[0m\n\u001b[0m",
      "\u001b[0;32m~/ECG_TTA/DSAIL/team_code.py\u001b[0m in \u001b[0;36mtraining_code\u001b[0;34m(data_directory, model_directory)\u001b[0m\n\u001b[1;32m     49\u001b[0m         \u001b[0mset_seeds\u001b[0m\u001b[0;34m(\u001b[0m\u001b[0;36m2021\u001b[0m\u001b[0;34m)\u001b[0m\u001b[0;34m\u001b[0m\u001b[0;34m\u001b[0m\u001b[0m\n\u001b[1;32m     50\u001b[0m         \u001b[0;31m#data_cfg.filenames = get_filenames_from_split(data_cfg, \"all\", \"train\", data_directory)\u001b[0m\u001b[0;34m\u001b[0m\u001b[0;34m\u001b[0m\u001b[0;34m\u001b[0m\u001b[0m\n\u001b[0;32m---> 51\u001b[0;31m         \u001b[0mdataset_train\u001b[0m \u001b[0;34m=\u001b[0m \u001b[0mget_dataset_from_configs\u001b[0m\u001b[0;34m(\u001b[0m\u001b[0mdata_cfg\u001b[0m\u001b[0;34m,\u001b[0m \u001b[0mpreprocess_cfg\u001b[0m\u001b[0;34m,\u001b[0m \u001b[0mdata_directory\u001b[0m\u001b[0;34m,\u001b[0m \u001b[0msplit_idx\u001b[0m \u001b[0;34m=\u001b[0m \u001b[0;34m\"train\"\u001b[0m\u001b[0;34m)\u001b[0m\u001b[0;34m\u001b[0m\u001b[0;34m\u001b[0m\u001b[0m\n\u001b[0m\u001b[1;32m     52\u001b[0m         \u001b[0;31m#data_cfg.filenames = get_filenames_from_split(data_cfg, \"all\", \"val\", data_directory)\u001b[0m\u001b[0;34m\u001b[0m\u001b[0;34m\u001b[0m\u001b[0;34m\u001b[0m\u001b[0m\n\u001b[1;32m     53\u001b[0m         \u001b[0mdataset_val\u001b[0m \u001b[0;34m=\u001b[0m \u001b[0mget_dataset_from_configs\u001b[0m\u001b[0;34m(\u001b[0m\u001b[0mdata_cfg\u001b[0m\u001b[0;34m,\u001b[0m \u001b[0mpreprocess_cfg\u001b[0m\u001b[0;34m,\u001b[0m \u001b[0mdata_directory\u001b[0m\u001b[0;34m,\u001b[0m \u001b[0msplit_idx\u001b[0m\u001b[0;34m=\u001b[0m\u001b[0;34m\"val\"\u001b[0m\u001b[0;34m)\u001b[0m\u001b[0;34m\u001b[0m\u001b[0;34m\u001b[0m\u001b[0m\n",
      "\u001b[0;32m~/ECG_TTA/DSAIL/src/data.py\u001b[0m in \u001b[0;36mget_dataset_from_configs\u001b[0;34m(data_cfg, preprocess_cfg, data_directory, dataset_idx, split_idx, pre_loading, sanity_check)\u001b[0m\n\u001b[1;32m     70\u001b[0m         \u001b[0mX\u001b[0m\u001b[0;34m,\u001b[0m \u001b[0mF\u001b[0m\u001b[0;34m,\u001b[0m \u001b[0mY\u001b[0m\u001b[0;34m,\u001b[0m \u001b[0mfilenames\u001b[0m\u001b[0;34m,\u001b[0m \u001b[0mheaders\u001b[0m \u001b[0;34m=\u001b[0m \u001b[0;34m[\u001b[0m\u001b[0;34m]\u001b[0m\u001b[0;34m,\u001b[0m \u001b[0;34m[\u001b[0m\u001b[0;34m]\u001b[0m\u001b[0;34m,\u001b[0m \u001b[0;34m[\u001b[0m\u001b[0;34m]\u001b[0m\u001b[0;34m,\u001b[0m \u001b[0;34m[\u001b[0m\u001b[0;34m]\u001b[0m\u001b[0;34m,\u001b[0m \u001b[0;34m[\u001b[0m\u001b[0;34m]\u001b[0m\u001b[0;34m\u001b[0m\u001b[0;34m\u001b[0m\u001b[0m\n\u001b[1;32m     71\u001b[0m         \u001b[0;32mfor\u001b[0m \u001b[0mfilename\u001b[0m \u001b[0;32min\u001b[0m \u001b[0mfilenames_all\u001b[0m\u001b[0;34m:\u001b[0m\u001b[0;34m\u001b[0m\u001b[0;34m\u001b[0m\u001b[0m\n\u001b[0;32m---> 72\u001b[0;31m             \u001b[0mheader\u001b[0m \u001b[0;34m=\u001b[0m \u001b[0mload_header\u001b[0m\u001b[0;34m(\u001b[0m\u001b[0mfilename\u001b[0m\u001b[0;34m)\u001b[0m\u001b[0;34m\u001b[0m\u001b[0;34m\u001b[0m\u001b[0m\n\u001b[0m\u001b[1;32m     73\u001b[0m             \u001b[0my\u001b[0m \u001b[0;34m=\u001b[0m \u001b[0mpreprocess_label\u001b[0m\u001b[0;34m(\u001b[0m\u001b[0mget_labels\u001b[0m\u001b[0;34m(\u001b[0m\u001b[0mheader\u001b[0m\u001b[0;34m)\u001b[0m\u001b[0;34m,\u001b[0m \u001b[0mdata_cfg\u001b[0m\u001b[0;34m.\u001b[0m\u001b[0mscored_classes\u001b[0m\u001b[0;34m,\u001b[0m \u001b[0mdata_cfg\u001b[0m\u001b[0;34m.\u001b[0m\u001b[0mequivalent_classes\u001b[0m\u001b[0;34m)\u001b[0m\u001b[0;34m\u001b[0m\u001b[0;34m\u001b[0m\u001b[0m\n\u001b[1;32m     74\u001b[0m             \u001b[0;32mif\u001b[0m \u001b[0mnp\u001b[0m\u001b[0;34m.\u001b[0m\u001b[0msum\u001b[0m\u001b[0;34m(\u001b[0m\u001b[0my\u001b[0m\u001b[0;34m)\u001b[0m \u001b[0;34m==\u001b[0m \u001b[0;36m0\u001b[0m \u001b[0;32mand\u001b[0m \u001b[0;32mnot\u001b[0m \u001b[0msanity_check\u001b[0m\u001b[0;34m:\u001b[0m \u001b[0;32mcontinue\u001b[0m\u001b[0;34m\u001b[0m\u001b[0;34m\u001b[0m\u001b[0m\n",
      "\u001b[0;32m~/ECG_TTA/DSAIL/src/data.py\u001b[0m in \u001b[0;36mload_header\u001b[0;34m(filename)\u001b[0m\n\u001b[1;32m    105\u001b[0m \u001b[0;32mdef\u001b[0m \u001b[0mload_header\u001b[0m\u001b[0;34m(\u001b[0m\u001b[0mfilename\u001b[0m\u001b[0;34m)\u001b[0m\u001b[0;34m:\u001b[0m\u001b[0;34m\u001b[0m\u001b[0;34m\u001b[0m\u001b[0m\n\u001b[1;32m    106\u001b[0m     \u001b[0;34m\"\"\" load header from WFDB files \"\"\"\u001b[0m\u001b[0;34m\u001b[0m\u001b[0;34m\u001b[0m\u001b[0m\n\u001b[0;32m--> 107\u001b[0;31m     \u001b[0mHEADER\u001b[0m \u001b[0;34m=\u001b[0m \u001b[0mopen\u001b[0m\u001b[0;34m(\u001b[0m\u001b[0mfilename\u001b[0m \u001b[0;34m+\u001b[0m \u001b[0;34m\".hea\"\u001b[0m\u001b[0;34m,\u001b[0m \u001b[0;34m'r'\u001b[0m\u001b[0;34m)\u001b[0m\u001b[0;34m\u001b[0m\u001b[0;34m\u001b[0m\u001b[0m\n\u001b[0m\u001b[1;32m    108\u001b[0m     \u001b[0mheader\u001b[0m \u001b[0;34m=\u001b[0m \u001b[0mHEADER\u001b[0m\u001b[0;34m.\u001b[0m\u001b[0mreadlines\u001b[0m\u001b[0;34m(\u001b[0m\u001b[0;34m)\u001b[0m\u001b[0;34m\u001b[0m\u001b[0;34m\u001b[0m\u001b[0m\n\u001b[1;32m    109\u001b[0m     \u001b[0mHEADER\u001b[0m\u001b[0;34m.\u001b[0m\u001b[0mclose\u001b[0m\u001b[0;34m(\u001b[0m\u001b[0;34m)\u001b[0m\u001b[0;34m\u001b[0m\u001b[0;34m\u001b[0m\u001b[0m\n",
      "\u001b[0;31mFileNotFoundError\u001b[0m: [Errno 2] No such file or directory: 'data_train/JS10651.hea'"
     ]
    }
   ],
   "source": [
    "import torch, os\n",
    "from team_code import training_code\n",
    "\n",
    "import data_aggregation\n",
    "import os, shutil\n",
    "\n",
    "#os.system(\"rm -f data_aggr\")\n",
    "\n",
    "source = 'CPSC+Extra'\n",
    "source_directory = f\"./../dataset/{source}/\"\n",
    "goal_directory = \"data_train/\"\n",
    "extensions = [\".hea\", \".mat\"]\n",
    "\n",
    "data_aggregation.copy_files(source_directory, goal_directory, extensions)\n",
    "\n",
    "os.environ[\"CUDA_VISIBLE_DEVICES\"] = \"2\"\n",
    "training_code('data_train', f'model/{source}')"
   ]
  },
  {
   "cell_type": "code",
   "execution_count": null,
   "id": "62e9d9d8-dd42-45b0-99e2-f7fef7299e05",
   "metadata": {},
   "outputs": [],
   "source": []
  },
  {
   "cell_type": "code",
   "execution_count": 2,
   "id": "165ee797-482a-4a1d-8e1d-d3f1f1edc817",
   "metadata": {
    "execution": {
     "iopub.execute_input": "2023-11-28T02:08:50.919321Z",
     "iopub.status.busy": "2023-11-28T02:08:50.918822Z",
     "iopub.status.idle": "2023-11-28T02:08:54.258673Z",
     "shell.execute_reply": "2023-11-28T02:08:54.257996Z",
     "shell.execute_reply.started": "2023-11-28T02:08:50.919270Z"
    },
    "tags": []
   },
   "outputs": [],
   "source": [
    "import torch, os, shutil\n",
    "import numpy as np\n",
    "from tqdm import tqdm\n",
    "\n",
    "#%load_ext autoreload\n",
    "#%autoreload 2\n",
    "import data_aggregation\n",
    "import src.config as config\n",
    "from src.data import get_dataset_from_configs, collate_into_list, get_loss_weights_and_flags\n",
    "from src.model.model_utils import get_model, get_profile\n",
    "from team_code import load_model\n",
    "from src.model.model import ECG_model\n",
    "from tent import tent\n",
    "import torch.nn.functional as F\n",
    "\n",
    "# source, target settings\n",
    "source = 'Ningbo'\n",
    "target = 'Chapman'\n",
    "\n",
    "# configuration settings\n",
    "num_leads = 6\n",
    "\n",
    "# set target dataset\n",
    "fdir = 'data_aggr'\n",
    "if os.path.exists(fdir):\n",
    "    shutil.rmtree(fdir)\n",
    "os.mkdir(fdir)\n",
    "\n",
    "data_aggregation.copy_files(source_dir = f\"./../dataset/{target}/\", goal_dir = f\"{fdir}/\", file_extensions = [\".hea\", \".mat\"])"
   ]
  },
  {
   "cell_type": "code",
   "execution_count": null,
   "id": "44162ec3-38af-4149-9475-952348bbcb2a",
   "metadata": {},
   "outputs": [],
   "source": [
    "## initialize a model\n",
    "model, params = get_model(model_cfg, len(data_cfg.leads), len(data_cfg.scored_classes))\n",
    "get_profile(model, len(data_cfg.leads), data_cfg.chunk_length)\n",
    "\n",
    "#model = load_model(model_directory = 'model', leads = '12')[3]\n",
    "state_dict = torch.load(f'model/{source}/{num_leads}leads_model.pt')\n",
    "model.load_state_dict(state_dict)\n",
    "\n",
    "model = tent.configure_model(model)\n",
    "params, param_names = tent.collect_params(model)\n",
    "#optimizer = TODO_optimizer(params, lr=1e-3)\n",
    "optimizer = torch.optim.Adam([{'params': params[0], 'weight_decay': run_cfg.weight_decay},\n",
    "                              {'params': params[1], 'weight_decay': 0}])\n",
    "tent_episodic = True\n",
    "tented_model = tent.Tent(model, optimizer, episodic=tent_episodic)\n",
    "#outputs = tented_model(dataset_train)"
   ]
  },
  {
   "cell_type": "code",
   "execution_count": 4,
   "id": "297e16ce-a435-41a4-9746-02c440011d80",
   "metadata": {
    "execution": {
     "iopub.execute_input": "2023-11-28T02:20:59.981994Z",
     "iopub.status.busy": "2023-11-28T02:20:59.981564Z",
     "iopub.status.idle": "2023-11-28T02:21:00.028309Z",
     "shell.execute_reply": "2023-11-28T02:21:00.027580Z",
     "shell.execute_reply.started": "2023-11-28T02:20:59.981953Z"
    },
    "tags": []
   },
   "outputs": [
    {
     "name": "stdout",
     "output_type": "stream",
     "text": [
      "Training for 6leads...\n",
      "Loading data...\n"
     ]
    },
    {
     "ename": "NameError",
     "evalue": "name 'fdir' is not defined",
     "output_type": "error",
     "traceback": [
      "\u001b[0;31m---------------------------------------------------------------------------\u001b[0m",
      "\u001b[0;31mNameError\u001b[0m                                 Traceback (most recent call last)",
      "\u001b[0;32m/tmp/ipykernel_2748727/2519403546.py\u001b[0m in \u001b[0;36m<module>\u001b[0;34m\u001b[0m\n\u001b[1;32m     22\u001b[0m \u001b[0mprint\u001b[0m\u001b[0;34m(\u001b[0m\u001b[0;34m'Loading data...'\u001b[0m\u001b[0;34m)\u001b[0m\u001b[0;34m\u001b[0m\u001b[0;34m\u001b[0m\u001b[0m\n\u001b[1;32m     23\u001b[0m \u001b[0mset_seeds\u001b[0m\u001b[0;34m(\u001b[0m\u001b[0;36m2021\u001b[0m\u001b[0;34m)\u001b[0m\u001b[0;34m\u001b[0m\u001b[0;34m\u001b[0m\u001b[0m\n\u001b[0;32m---> 24\u001b[0;31m \u001b[0mdata_directory\u001b[0m \u001b[0;34m=\u001b[0m \u001b[0mfdir\u001b[0m\u001b[0;34m\u001b[0m\u001b[0;34m\u001b[0m\u001b[0m\n\u001b[0m\u001b[1;32m     25\u001b[0m \u001b[0mdataset_train\u001b[0m \u001b[0;34m=\u001b[0m \u001b[0mget_dataset_from_configs\u001b[0m\u001b[0;34m(\u001b[0m\u001b[0mdata_cfg\u001b[0m\u001b[0;34m,\u001b[0m \u001b[0mpreprocess_cfg\u001b[0m\u001b[0;34m,\u001b[0m \u001b[0mdata_directory\u001b[0m\u001b[0;34m,\u001b[0m \u001b[0msplit_idx\u001b[0m \u001b[0;34m=\u001b[0m \u001b[0;34m\"train\"\u001b[0m\u001b[0;34m)\u001b[0m\u001b[0;34m\u001b[0m\u001b[0;34m\u001b[0m\u001b[0m\n\u001b[1;32m     26\u001b[0m \u001b[0;31m#data_cfg.filenames = get_filenames_from_split(data_cfg, \"all\", \"val\", data_directory)\u001b[0m\u001b[0;34m\u001b[0m\u001b[0;34m\u001b[0m\u001b[0;34m\u001b[0m\u001b[0m\n",
      "\u001b[0;31mNameError\u001b[0m: name 'fdir' is not defined"
     ]
    }
   ],
   "source": [
    "import src.config as config\n",
    "from src.data import get_dataset_from_configs, collate_into_list, get_loss_weights_and_flags\n",
    "from src.model.model_utils import get_model, get_profile\n",
    "from src.train import Trainer\n",
    "from src.utils import set_seeds\n",
    "import time, torch\n",
    "\n",
    "# source, target settings\n",
    "source = 'Ningbo'\n",
    "target = 'Chapman'\n",
    "\n",
    "# configuration settings\n",
    "num_leads = 6\n",
    "\n",
    "print('Training for %dleads...' % num_leads)\n",
    "data_cfg = config.DataConfig(f\"config/{target}/cv-{num_leads}leads.json\")\n",
    "preprocess_cfg = config.PreprocessConfig(\"config/preprocess.json\")\n",
    "model_cfg = config.ModelConfig(\"config/model.json\")\n",
    "run_cfg = config.RunConfig(\"config/run.json\")\n",
    "device = torch.device(\"cuda:2\" if torch.cuda.is_available() else \"cpu\")\n",
    "\n",
    "print('Loading data...')\n",
    "set_seeds(2021)\n",
    "data_directory = fdir\n",
    "dataset_train = get_dataset_from_configs(data_cfg, preprocess_cfg, data_directory, split_idx = \"train\")\n",
    "#data_cfg.filenames = get_filenames_from_split(data_cfg, \"all\", \"val\", data_directory)\n",
    "\n",
    "iterator_train = torch.utils.data.DataLoader(dataset_train, run_cfg.batch_size, #collate_fn=collate_into_list,\n",
    "                                             shuffle=True, pin_memory=True, num_workers=4)\n",
    "\n",
    "print(\"training samples: %d\" % len(dataset_train))\n",
    "\n",
    "## initialize a model\n",
    "model, params = get_model(model_cfg, len(data_cfg.leads), len(data_cfg.scored_classes))\n",
    "get_profile(model, len(data_cfg.leads), data_cfg.chunk_length)\n",
    "\n",
    "# loading model\n",
    "state_dict = torch.load(f'model/{source}/{num_leads}leads_model.pt')\n",
    "model.load_state_dict(state_dict)\n",
    "\n",
    "## setup trainer configurations\n",
    "loss_weights_and_flags = get_loss_weights_and_flags(data_cfg, dataset_train)\n",
    "trainer = Trainer(model, data_cfg, loss_weights_and_flags)\n",
    "trainer.set_device(device)\n",
    "trainer.set_optim_scheduler(run_cfg, params, len(iterator_train))\n",
    "\n",
    "\n",
    "for B, batch in enumerate(iterator_train):\n",
    "    trainer.evaluate(batch, device)\n",
    "\n",
    "outputs = trainer.logger_test.scalar_outputs[0][0]\n",
    "outputs_list.append(outputs)\n"
   ]
  },
  {
   "cell_type": "code",
   "execution_count": 5,
   "id": "6709908d-f3a6-4ec6-a0a2-dcd7c91a4a2d",
   "metadata": {
    "execution": {
     "iopub.execute_input": "2023-11-28T02:21:11.600114Z",
     "iopub.status.busy": "2023-11-28T02:21:11.599576Z",
     "iopub.status.idle": "2023-11-28T02:21:11.615905Z",
     "shell.execute_reply": "2023-11-28T02:21:11.614952Z",
     "shell.execute_reply.started": "2023-11-28T02:21:11.600060Z"
    },
    "tags": []
   },
   "outputs": [
    {
     "ename": "NameError",
     "evalue": "name 'dataset_train' is not defined",
     "output_type": "error",
     "traceback": [
      "\u001b[0;31m---------------------------------------------------------------------------\u001b[0m",
      "\u001b[0;31mNameError\u001b[0m                                 Traceback (most recent call last)",
      "\u001b[0;32m/tmp/ipykernel_2748727/2097688111.py\u001b[0m in \u001b[0;36m<module>\u001b[0;34m\u001b[0m\n\u001b[0;32m----> 1\u001b[0;31m \u001b[0mdataset_train\u001b[0m\u001b[0;34m[\u001b[0m\u001b[0;36m0\u001b[0m\u001b[0;34m]\u001b[0m\u001b[0;34m[\u001b[0m\u001b[0;36m0\u001b[0m\u001b[0;34m]\u001b[0m\u001b[0;34m.\u001b[0m\u001b[0mshape\u001b[0m\u001b[0;34m\u001b[0m\u001b[0;34m\u001b[0m\u001b[0m\n\u001b[0m",
      "\u001b[0;31mNameError\u001b[0m: name 'dataset_train' is not defined"
     ]
    }
   ],
   "source": [
    "dataset_train[0][0].shape"
   ]
  },
  {
   "cell_type": "code",
   "execution_count": null,
   "id": "256758db-85b5-49d8-ab1e-7ee3768fa636",
   "metadata": {},
   "outputs": [],
   "source": []
  },
  {
   "cell_type": "code",
   "execution_count": null,
   "id": "fee6d3cb-3e6e-4479-83bf-759d028c6c99",
   "metadata": {},
   "outputs": [],
   "source": []
  },
  {
   "cell_type": "code",
   "execution_count": null,
   "id": "9207c4c9-dd8a-479a-a181-8ca18f3769e7",
   "metadata": {},
   "outputs": [],
   "source": []
  }
 ],
 "metadata": {
  "kernelspec": {
   "display_name": "keras",
   "language": "python",
   "name": "painstudy_keras"
  },
  "language_info": {
   "codemirror_mode": {
    "name": "ipython",
    "version": 3
   },
   "file_extension": ".py",
   "mimetype": "text/x-python",
   "name": "python",
   "nbconvert_exporter": "python",
   "pygments_lexer": "ipython3",
   "version": "3.8.12"
  }
 },
 "nbformat": 4,
 "nbformat_minor": 5
}
